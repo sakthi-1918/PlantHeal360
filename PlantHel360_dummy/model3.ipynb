{
 "cells": [
  {
   "cell_type": "code",
   "execution_count": 1,
   "metadata": {},
   "outputs": [],
   "source": [
    "# Import necessary libraries\n",
    "import os\n",
    "import torch\n",
    "import torch.nn as nn\n",
    "from torchvision import models, transforms\n",
    "from torch.utils.data import DataLoader, Dataset, WeightedRandomSampler\n",
    "from PIL import Image\n",
    "import numpy as np\n"
   ]
  },
  {
   "cell_type": "code",
   "execution_count": 2,
   "metadata": {},
   "outputs": [
    {
     "name": "stdout",
     "output_type": "stream",
     "text": [
      "Plant Classes: ['Eggplant', 'Potato', 'Tomato']\n",
      "Disease Classes: ['Tomato___Early_blight', 'Tomato___Late_blight', 'Eggplant___Cercospora_Leaf_Spot', 'Eggplant___Flea_Beetles', 'Potato___healthy', 'Eggplant___Defect_Eggplant', 'Potato___Late_blight', 'Eggplant___Leaf_Wilt', 'Eggplant___Fresh_Eggplant_Leaf', 'Tomato___Bacterial_spot', 'Eggplant___Fresh_Eggplant', 'Potato___Early_blight', 'Eggplant___Tobacco_Mosaic_Virus', 'Eggplant___Phytophthora_Blight', 'Eggplant___Aphids', 'Eggplant___Powdery_Mildew']\n"
     ]
    }
   ],
   "source": [
    "# Dynamic Class Fetching\n",
    "def get_classes_from_dataset(dataset_path):\n",
    "    plant_classes = []\n",
    "    disease_classes = []\n",
    "\n",
    "    for plant_folder in os.listdir(dataset_path):\n",
    "        if os.path.isdir(os.path.join(dataset_path, plant_folder)):\n",
    "            plant_classes.append(plant_folder)  # Add plant type\n",
    "            for disease_folder in os.listdir(os.path.join(dataset_path, plant_folder)):\n",
    "                if os.path.isdir(os.path.join(dataset_path, plant_folder, disease_folder)):\n",
    "                    disease_classes.append(disease_folder)  # Add disease name\n",
    "    \n",
    "    # Remove duplicates\n",
    "    disease_classes = list(set(disease_classes))\n",
    "\n",
    "    return plant_classes, disease_classes\n",
    "\n",
    "# Set the path to your dataset\n",
    "dataset_path = 'dataset'\n",
    "plant_classes, disease_classes = get_classes_from_dataset(dataset_path)\n",
    "\n",
    "print(f'Plant Classes: {plant_classes}')\n",
    "print(f'Disease Classes: {disease_classes}')\n",
    "\n",
    "# Create a mapping: {plant_index: [valid_disease_indices]}\n",
    "plant_disease_map = {\n",
    "    i: [disease_classes.index(d) for d in os.listdir(os.path.join(dataset_path, plant_classes[i]))]\n",
    "    for i in range(len(plant_classes))\n",
    "}\n"
   ]
  },
  {
   "cell_type": "code",
   "execution_count": 3,
   "metadata": {},
   "outputs": [],
   "source": [
    "# Custom Dataset Class for loading images\n",
    "class PlantDiseaseDataset(Dataset):\n",
    "    def __init__(self, dataset_path, plant_classes, disease_classes, transform=None):\n",
    "        self.dataset_path = dataset_path\n",
    "        self.plant_classes = plant_classes\n",
    "        self.disease_classes = disease_classes\n",
    "        self.transform = transform\n",
    "        self.image_paths = []\n",
    "        self.labels = []\n",
    "        \n",
    "        # Load image paths and labels\n",
    "        for plant_idx, plant in enumerate(plant_classes):\n",
    "            for disease_idx, disease in enumerate(disease_classes):\n",
    "                folder_path = os.path.join(dataset_path, plant, disease)\n",
    "                if os.path.exists(folder_path):\n",
    "                    for filename in os.listdir(folder_path):\n",
    "                        if filename.endswith(\".JPG\"):\n",
    "                            self.image_paths.append(os.path.join(folder_path, filename))\n",
    "                            self.labels.append((plant_idx, disease_idx))\n",
    "\n",
    "    def __len__(self):\n",
    "        return len(self.image_paths)\n",
    "\n",
    "    def __getitem__(self, idx):\n",
    "        image_path = self.image_paths[idx]\n",
    "        label = self.labels[idx]\n",
    "\n",
    "        # Load image\n",
    "        image = Image.open(image_path).convert('RGB')\n",
    "\n",
    "        # Apply transformations\n",
    "        if self.transform:\n",
    "            image = self.transform(image)\n",
    "\n",
    "        return image, label\n"
   ]
  },
  {
   "cell_type": "code",
   "execution_count": 4,
   "metadata": {},
   "outputs": [],
   "source": [
    "# Data transformations\n",
    "transform = transforms.Compose([\n",
    "    transforms.Resize((224, 224)), \n",
    "    transforms.RandomHorizontalFlip(),\n",
    "    transforms.RandomRotation(10),\n",
    "    transforms.ColorJitter(brightness=0.2, contrast=0.2),\n",
    "    transforms.ToTensor(),\n",
    "    transforms.Normalize([0.485, 0.456, 0.406], [0.229, 0.224, 0.225])\n",
    "])\n",
    "\n",
    "# Load dataset\n",
    "dataset = PlantDiseaseDataset(dataset_path, plant_classes, disease_classes, transform)\n",
    "train_loader = DataLoader(dataset, batch_size=16, shuffle=True)\n"
   ]
  },
  {
   "cell_type": "code",
   "execution_count": 41,
   "metadata": {},
   "outputs": [
    {
     "name": "stdout",
     "output_type": "stream",
     "text": [
      "Plant Classes: ['Eggplant', 'Potato', 'Tomato']\n",
      "Disease Classes: ['Tomato___Early_blight', 'Tomato___Late_blight', 'Eggplant___Cercospora_Leaf_Spot', 'Eggplant___Flea_Beetles', 'Potato___healthy', 'Eggplant___Defect_Eggplant', 'Potato___Late_blight', 'Eggplant___Leaf_Wilt', 'Eggplant___Fresh_Eggplant_Leaf', 'Tomato___Bacterial_spot', 'Eggplant___Fresh_Eggplant', 'Potato___Early_blight', 'Eggplant___Tobacco_Mosaic_Virus', 'Eggplant___Phytophthora_Blight', 'Eggplant___Aphids', 'Eggplant___Powdery_Mildew']\n"
     ]
    },
    {
     "ename": "NameError",
     "evalue": "name 'disease_mapping' is not defined",
     "output_type": "error",
     "traceback": [
      "\u001b[1;31m---------------------------------------------------------------------------\u001b[0m",
      "\u001b[1;31mNameError\u001b[0m                                 Traceback (most recent call last)",
      "Cell \u001b[1;32mIn[41], line 3\u001b[0m\n\u001b[0;32m      1\u001b[0m \u001b[38;5;28mprint\u001b[39m(\u001b[38;5;124m\"\u001b[39m\u001b[38;5;124mPlant Classes:\u001b[39m\u001b[38;5;124m\"\u001b[39m, plant_classes)\n\u001b[0;32m      2\u001b[0m \u001b[38;5;28mprint\u001b[39m(\u001b[38;5;124m\"\u001b[39m\u001b[38;5;124mDisease Classes:\u001b[39m\u001b[38;5;124m\"\u001b[39m, disease_classes)\n\u001b[1;32m----> 3\u001b[0m \u001b[38;5;28mprint\u001b[39m(\u001b[38;5;124m\"\u001b[39m\u001b[38;5;124mDisease Mapping:\u001b[39m\u001b[38;5;124m\"\u001b[39m, \u001b[43mdisease_mapping\u001b[49m)\n",
      "\u001b[1;31mNameError\u001b[0m: name 'disease_mapping' is not defined"
     ]
    }
   ],
   "source": [
    "print(\"Plant Classes:\", plant_classes)\n",
    "print(\"Disease Classes:\", disease_classes)\n",
    "print(\"Disease Mapping:\", disease_mapping)\n"
   ]
  },
  {
   "cell_type": "code",
   "execution_count": 5,
   "metadata": {},
   "outputs": [],
   "source": [
    "# Define MultiOutputModel\n",
    "class MultiOutputModel(nn.Module):\n",
    "    def __init__(self, num_plants, num_diseases):\n",
    "        super(MultiOutputModel, self).__init__()\n",
    "        self.base_model = models.resnet18(weights=models.ResNet18_Weights.IMAGENET1K_V1)\n",
    "        \n",
    "        # Freeze pretrained layers\n",
    "        for param in self.base_model.parameters():\n",
    "            param.requires_grad = False\n",
    "        \n",
    "        # Replace the final fully connected layer\n",
    "        self.base_model.fc = nn.Linear(self.base_model.fc.in_features, 512)\n",
    "        \n",
    "        # Separate classification layers for plant and disease\n",
    "        self.plant_fc = nn.Linear(512, num_plants)\n",
    "        self.disease_fc = nn.Linear(512, num_diseases)\n",
    "\n",
    "    def forward(self, x):\n",
    "        features = self.base_model(x)\n",
    "        plant_output = self.plant_fc(features)\n",
    "        disease_output = self.disease_fc(features)\n",
    "        return plant_output, disease_output\n"
   ]
  },
  {
   "cell_type": "code",
   "execution_count": 20,
   "metadata": {},
   "outputs": [],
   "source": [
    "# Initialize model, loss function, and optimizer\n",
    "device = torch.device(\"cuda\" if torch.cuda.is_available() else \"cpu\")\n",
    "model = MultiOutputModel(len(plant_classes), len(disease_classes)).to(device)\n",
    "\n",
    "def compute_class_weights(labels, num_classes):\n",
    "    class_counts = np.bincount(labels, minlength=num_classes)  # Ensure correct size\n",
    "    class_weights = 1.0 / (class_counts + 1e-6)  # Avoid division by zero\n",
    "    return torch.tensor(class_weights, dtype=torch.float)\n",
    "\n",
    "\n",
    "plant_weights = compute_class_weights([p for p, d in dataset.labels], len(plant_classes)).to(device)\n",
    "disease_weights = compute_class_weights([d for p, d in dataset.labels], len(disease_classes)).to(device)\n",
    "\n",
    "\n",
    "plant_criterion = nn.CrossEntropyLoss(weight=plant_weights)\n",
    "disease_criterion = nn.CrossEntropyLoss(weight=disease_weights)\n",
    "optimizer = torch.optim.Adam(model.parameters(), lr=0.001)\n",
    "scheduler = torch.optim.lr_scheduler.StepLR(optimizer, step_size=5, gamma=0.5)\n"
   ]
  },
  {
   "cell_type": "code",
   "execution_count": 21,
   "metadata": {},
   "outputs": [],
   "source": [
    "# Enforce plant-disease consistency\n",
    "def enforce_consistency(plant_pred, disease_pred):\n",
    "    valid_diseases = plant_disease_map[plant_pred]\n",
    "    if disease_pred not in valid_diseases:\n",
    "        disease_pred = min(valid_diseases, key=lambda d: abs(d - disease_pred))  # Pick closest valid disease\n",
    "    return disease_pred\n"
   ]
  },
  {
   "cell_type": "code",
   "execution_count": 22,
   "metadata": {},
   "outputs": [
    {
     "name": "stdout",
     "output_type": "stream",
     "text": [
      "Plant Outputs Shape: torch.Size([16, 3])\n",
      "Plant Labels Shape: torch.Size([16])\n",
      "Disease Outputs Shape: torch.Size([16, 16])\n",
      "Disease Labels Shape: torch.Size([16])\n"
     ]
    }
   ],
   "source": [
    "print(f\"Plant Outputs Shape: {plant_outputs.shape}\")  # Should be [batch_size, num_plant_classes]\n",
    "print(f\"Plant Labels Shape: {plant_labels.shape}\")    # Should be [batch_size]\n",
    "\n",
    "print(f\"Disease Outputs Shape: {disease_outputs.shape}\")  # Should be [batch_size, num_disease_classes]\n",
    "print(f\"Disease Labels Shape: {disease_labels.shape}\")    # Should be [batch_size]\n"
   ]
  },
  {
   "cell_type": "code",
   "execution_count": 23,
   "metadata": {},
   "outputs": [
    {
     "name": "stdout",
     "output_type": "stream",
     "text": [
      "Number of disease classes in the model: 16\n"
     ]
    }
   ],
   "source": [
    "num_disease_classes = disease_outputs.shape[1]  # Should match dataset\n",
    "print(f\"Number of disease classes in the model: {num_disease_classes}\")\n"
   ]
  },
  {
   "cell_type": "code",
   "execution_count": 24,
   "metadata": {},
   "outputs": [],
   "source": [
    "disease_criterion = nn.CrossEntropyLoss(weight=torch.ones(num_disease_classes).to(device))\n"
   ]
  },
  {
   "cell_type": "code",
   "execution_count": 25,
   "metadata": {},
   "outputs": [
    {
     "name": "stdout",
     "output_type": "stream",
     "text": [
      "Plant Outputs Shape: torch.Size([16, 3]), Plant Labels Shape: torch.Size([16])\n",
      "Disease Outputs Shape: torch.Size([16, 16]), Disease Labels Shape: torch.Size([16])\n"
     ]
    }
   ],
   "source": [
    "print(f\"Plant Outputs Shape: {plant_outputs.shape}, Plant Labels Shape: {plant_labels.shape}\")\n",
    "print(f\"Disease Outputs Shape: {disease_outputs.shape}, Disease Labels Shape: {disease_labels.shape}\")\n"
   ]
  },
  {
   "cell_type": "code",
   "execution_count": 26,
   "metadata": {},
   "outputs": [
    {
     "name": "stdout",
     "output_type": "stream",
     "text": [
      "[tensor([1, 1, 2, 1, 2, 2, 2, 2, 2, 1, 2, 2, 1, 2, 2, 1]), tensor([ 4, 11,  9, 11,  1,  0,  9,  9,  9,  6,  9,  0,  4,  9,  0, 11])]\n"
     ]
    }
   ],
   "source": [
    "print(labels[:5])  # Print first 5 labels to check the structure\n"
   ]
  },
  {
   "cell_type": "code",
   "execution_count": 28,
   "metadata": {},
   "outputs": [
    {
     "name": "stdout",
     "output_type": "stream",
     "text": [
      "Epoch [1/10], Loss: 0.6381\n",
      "Epoch [2/10], Loss: 0.5835\n",
      "Epoch [3/10], Loss: 0.5201\n",
      "Epoch [4/10], Loss: 0.5039\n",
      "Epoch [5/10], Loss: 0.4348\n",
      "Epoch [6/10], Loss: 0.4040\n",
      "Epoch [7/10], Loss: 0.3666\n",
      "Epoch [8/10], Loss: 0.3831\n",
      "Epoch [9/10], Loss: 0.3726\n",
      "Epoch [10/10], Loss: 0.3760\n"
     ]
    }
   ],
   "source": [
    "num_epochs = 10  # Adjust as needed\n",
    "\n",
    "for epoch in range(num_epochs):\n",
    "    model.train()  # Set model to training mode\n",
    "    total_loss = 0\n",
    "\n",
    "    for inputs, labels in train_loader:\n",
    "        inputs = inputs.to(device)\n",
    "\n",
    "        # Extract labels correctly\n",
    "        plant_labels = labels[0].to(torch.long).to(device)\n",
    "        disease_labels = labels[1].to(torch.long).to(device)\n",
    "\n",
    "        optimizer.zero_grad()\n",
    "\n",
    "        # Forward pass\n",
    "        plant_outputs, disease_outputs = model(inputs)\n",
    "\n",
    "        # Compute losses\n",
    "        plant_loss = plant_criterion(plant_outputs, plant_labels)\n",
    "        disease_loss = disease_criterion(disease_outputs, disease_labels)\n",
    "        loss = plant_loss + disease_loss\n",
    "\n",
    "        # Backward pass and optimize\n",
    "        loss.backward()\n",
    "        optimizer.step()\n",
    "\n",
    "        total_loss += loss.item()\n",
    "\n",
    "    # Step the learning rate scheduler\n",
    "    scheduler.step()\n",
    "\n",
    "    # Print training status\n",
    "    print(f\"Epoch [{epoch+1}/{num_epochs}], Loss: {total_loss/len(train_loader):.4f}\")\n"
   ]
  },
  {
   "cell_type": "code",
   "execution_count": 37,
   "metadata": {},
   "outputs": [],
   "source": [
    "from torch.utils.data import random_split\n",
    "\n",
    "# Define train-validation split (e.g., 80% train, 20% validation)\n",
    "train_size = int(0.8 * len(dataset))\n",
    "val_size = len(dataset) - train_size\n",
    "\n",
    "# Split dataset\n",
    "train_dataset, val_dataset = random_split(dataset, [train_size, val_size])\n",
    "val_loader = DataLoader(val_dataset, batch_size=16, shuffle=False)"
   ]
  },
  {
   "cell_type": "code",
   "execution_count": 38,
   "metadata": {},
   "outputs": [
    {
     "name": "stdout",
     "output_type": "stream",
     "text": [
      "Validation Accuracy - Plant: 97.83%, Disease: 95.12%\n"
     ]
    }
   ],
   "source": [
    "model.eval()\n",
    "correct_plant = 0\n",
    "correct_disease = 0\n",
    "total_samples = 0\n",
    "\n",
    "with torch.no_grad():\n",
    "    for inputs, labels in val_loader:\n",
    "        inputs = inputs.to(device)\n",
    "        plant_labels = labels[0].to(torch.long).to(device)\n",
    "        disease_labels = labels[1].to(torch.long).to(device)\n",
    "\n",
    "        # Forward pass\n",
    "        plant_outputs, disease_outputs = model(inputs)\n",
    "\n",
    "        # Predictions\n",
    "        _, plant_preds = torch.max(plant_outputs, 1)\n",
    "        _, disease_preds = torch.max(disease_outputs, 1)\n",
    "\n",
    "        # Compute accuracy\n",
    "        correct_plant += (plant_preds == plant_labels).sum().item()\n",
    "        correct_disease += (disease_preds == disease_labels).sum().item()\n",
    "        total_samples += plant_labels.size(0)\n",
    "\n",
    "plant_acc = correct_plant / total_samples * 100\n",
    "disease_acc = correct_disease / total_samples * 100\n",
    "\n",
    "print(f\"Validation Accuracy - Plant: {plant_acc:.2f}%, Disease: {disease_acc:.2f}%\")\n"
   ]
  },
  {
   "cell_type": "code",
   "execution_count": null,
   "metadata": {},
   "outputs": [
    {
     "name": "stdout",
     "output_type": "stream",
     "text": [
      "Model saved at plant_disease_model.pth\n"
     ]
    }
   ],
   "source": [
    "model_path = \"plant_disease_model.pth\"\n",
    "torch.save(model.state_dict(), model_path)\n",
    "print(f\"Model saved at {model_path}\")\n"
   ]
  },
  {
   "cell_type": "code",
   "execution_count": null,
   "metadata": {},
   "outputs": [],
   "source": []
  },
  {
   "cell_type": "code",
   "execution_count": 40,
   "metadata": {},
   "outputs": [
    {
     "name": "stdout",
     "output_type": "stream",
     "text": [
      "Plant output shape: torch.Size([1, 3])\n",
      "Disease output shape: torch.Size([1, 16])\n"
     ]
    }
   ],
   "source": [
    "dummy_input = torch.randn(1, 3, 224, 224)  # Assuming input size is (3, 224, 224)\n",
    "plant_output, disease_output = model(dummy_input)\n",
    "\n",
    "print(\"Plant output shape:\", plant_output.shape)  # Expected: (1, num_plants)\n",
    "print(\"Disease output shape:\", disease_output.shape)  # Expected: (1, num_diseases)\n"
   ]
  },
  {
   "cell_type": "code",
   "execution_count": 42,
   "metadata": {},
   "outputs": [
    {
     "name": "stdout",
     "output_type": "stream",
     "text": [
      "Plant Classes: ['Eggplant', 'Potato', 'Tomato']\n",
      "Disease Classes: ['Tomato___Early_blight', 'Tomato___Late_blight', 'Eggplant___Cercospora_Leaf_Spot', 'Eggplant___Flea_Beetles', 'Potato___healthy', 'Eggplant___Defect_Eggplant', 'Potato___Late_blight', 'Eggplant___Leaf_Wilt', 'Eggplant___Fresh_Eggplant_Leaf', 'Tomato___Bacterial_spot', 'Eggplant___Fresh_Eggplant', 'Potato___Early_blight', 'Eggplant___Tobacco_Mosaic_Virus', 'Eggplant___Phytophthora_Blight', 'Eggplant___Aphids', 'Eggplant___Powdery_Mildew']\n"
     ]
    },
    {
     "ename": "NameError",
     "evalue": "name 'disease_mapping' is not defined",
     "output_type": "error",
     "traceback": [
      "\u001b[1;31m---------------------------------------------------------------------------\u001b[0m",
      "\u001b[1;31mNameError\u001b[0m                                 Traceback (most recent call last)",
      "Cell \u001b[1;32mIn[42], line 3\u001b[0m\n\u001b[0;32m      1\u001b[0m \u001b[38;5;28mprint\u001b[39m(\u001b[38;5;124m\"\u001b[39m\u001b[38;5;124mPlant Classes:\u001b[39m\u001b[38;5;124m\"\u001b[39m, plant_classes)\n\u001b[0;32m      2\u001b[0m \u001b[38;5;28mprint\u001b[39m(\u001b[38;5;124m\"\u001b[39m\u001b[38;5;124mDisease Classes:\u001b[39m\u001b[38;5;124m\"\u001b[39m, disease_classes)\n\u001b[1;32m----> 3\u001b[0m \u001b[38;5;28mprint\u001b[39m(\u001b[38;5;124m\"\u001b[39m\u001b[38;5;124mDisease Mapping:\u001b[39m\u001b[38;5;124m\"\u001b[39m, \u001b[43mdisease_mapping\u001b[49m)\n",
      "\u001b[1;31mNameError\u001b[0m: name 'disease_mapping' is not defined"
     ]
    }
   ],
   "source": [
    "print(\"Plant Classes:\", plant_classes)\n",
    "print(\"Disease Classes:\", disease_classes)\n",
    "print(\"Disease Mapping:\", disease_mapping)\n"
   ]
  }
 ],
 "metadata": {
  "kernelspec": {
   "display_name": "Python 3",
   "language": "python",
   "name": "python3"
  },
  "language_info": {
   "codemirror_mode": {
    "name": "ipython",
    "version": 3
   },
   "file_extension": ".py",
   "mimetype": "text/x-python",
   "name": "python",
   "nbconvert_exporter": "python",
   "pygments_lexer": "ipython3",
   "version": "3.12.1"
  }
 },
 "nbformat": 4,
 "nbformat_minor": 2
}
